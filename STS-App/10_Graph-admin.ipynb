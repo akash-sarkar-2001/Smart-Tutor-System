{
 "cells": [
  {
   "cell_type": "code",
   "execution_count": 1,
   "metadata": {},
   "outputs": [
    {
     "name": "stdout",
     "output_type": "stream",
     "text": [
      "Graphs updated!\n"
     ]
    },
    {
     "ename": "KeyboardInterrupt",
     "evalue": "",
     "output_type": "error",
     "traceback": [
      "\u001b[1;31m---------------------------------------------------------------------------\u001b[0m",
      "\u001b[1;31mKeyboardInterrupt\u001b[0m                         Traceback (most recent call last)",
      "Cell \u001b[1;32mIn[1], line 56\u001b[0m\n\u001b[0;32m     54\u001b[0m plot_and_save_graphs(df, output_dir)\n\u001b[0;32m     55\u001b[0m \u001b[38;5;28mprint\u001b[39m(\u001b[38;5;124m\"\u001b[39m\u001b[38;5;124mGraphs updated!\u001b[39m\u001b[38;5;124m\"\u001b[39m)\n\u001b[1;32m---> 56\u001b[0m \u001b[43mtime\u001b[49m\u001b[38;5;241;43m.\u001b[39;49m\u001b[43msleep\u001b[49m\u001b[43m(\u001b[49m\u001b[38;5;241;43m10\u001b[39;49m\u001b[43m)\u001b[49m  \u001b[38;5;66;03m# Wait for 10 seconds before the next iteration\u001b[39;00m\n",
      "\u001b[1;31mKeyboardInterrupt\u001b[0m: "
     ]
    }
   ],
   "source": [
    "import os\n",
    "import pandas as pd\n",
    "import seaborn as sns\n",
    "import matplotlib.pyplot as plt\n",
    "import time\n",
    "\n",
    "# Define the CSV file path and output directory\n",
    "csv_file_path = r'./csv_files/students.csv'\n",
    "output_dir = r'./Graphs-admin'\n",
    "\n",
    "# Function to create the output directory if it doesn't exist\n",
    "def create_output_dir(directory):\n",
    "    if not os.path.exists(directory):\n",
    "        os.makedirs(directory)\n",
    "\n",
    "# Function to load and process the CSV data\n",
    "def load_and_process_data(file_path):\n",
    "    df = pd.read_csv(file_path)\n",
    "    df['timestamp'] = pd.to_datetime(df['timestamp'])\n",
    "    df['subject-name'] = df['subject-name'].str.strip().str.replace('\\n', ' ', regex=True)\n",
    "    return df\n",
    "\n",
    "# Function to plot and save graphs\n",
    "def plot_and_save_graphs(df, output_dir):\n",
    "    subjects = df['subject-name'].unique()\n",
    "    sns.set(style=\"whitegrid\")\n",
    "    \n",
    "    for subject in subjects:\n",
    "        plt.figure(figsize=(12, 6))\n",
    "        subject_data = df[df['subject-name'] == subject]\n",
    "        grouped = subject_data.groupby('rollno')\n",
    "        \n",
    "        for rollno, group in grouped:\n",
    "            group = group.sort_values('timestamp')  # Sort values by timestamp for line plot\n",
    "            sns.lineplot(data=group, x='timestamp', y='obtained_marks', marker='o', label=f'Roll No: {rollno}')\n",
    "        \n",
    "        plt.xlabel('Timestamp')\n",
    "        plt.ylabel('Obtained Marks')\n",
    "        plt.title(f'Obtained Marks over Time for {subject}')\n",
    "        plt.legend()\n",
    "        plt.xticks(rotation=45)\n",
    "        plt.tight_layout()\n",
    "        \n",
    "        # Save the plot\n",
    "        plot_filename = f'{subject.replace(\" \", \"_\")}.png'\n",
    "        plot_filepath = os.path.join(output_dir, plot_filename)\n",
    "        plt.savefig(plot_filepath)\n",
    "        plt.close()  # Close the figure to avoid display\n",
    "\n",
    "# Main loop to run the script indefinitely\n",
    "while True:\n",
    "    create_output_dir(output_dir)\n",
    "    df = load_and_process_data(csv_file_path)\n",
    "    plot_and_save_graphs(df, output_dir)\n",
    "    print(\"Graphs updated!\")\n",
    "    time.sleep(10)  # Wait for 10 seconds before the next iteration\n"
   ]
  },
  {
   "cell_type": "code",
   "execution_count": null,
   "metadata": {},
   "outputs": [],
   "source": []
  }
 ],
 "metadata": {
  "kernelspec": {
   "display_name": "Python 3",
   "language": "python",
   "name": "python3"
  },
  "language_info": {
   "codemirror_mode": {
    "name": "ipython",
    "version": 3
   },
   "file_extension": ".py",
   "mimetype": "text/x-python",
   "name": "python",
   "nbconvert_exporter": "python",
   "pygments_lexer": "ipython3",
   "version": "3.12.3"
  }
 },
 "nbformat": 4,
 "nbformat_minor": 2
}
